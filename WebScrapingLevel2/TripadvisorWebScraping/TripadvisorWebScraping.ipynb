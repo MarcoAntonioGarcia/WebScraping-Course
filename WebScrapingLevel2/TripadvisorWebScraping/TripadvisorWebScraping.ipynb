{
 "cells": [
  {
   "cell_type": "code",
   "execution_count": 16,
   "metadata": {},
   "outputs": [],
   "source": [
    "from scrapy.item import Field\n",
    "from scrapy.item import Item\n",
    "from scrapy.spiders import Spider\n",
    "from scrapy.spiders import CrawlSpider, Rule #to use vertical WebScraping\n",
    "from scrapy.linkextractors import LinkExtractor\n",
    "from scrapy.selector import Selector\n",
    "from scrapy.loader import ItemLoader\n",
    "from bs4 import BeautifulSoup\n",
    "from scrapy.crawler import CrawlerProcess"
   ]
  },
  {
   "cell_type": "code",
   "execution_count": 17,
   "metadata": {},
   "outputs": [],
   "source": [
    "class Hotel(Item): \n",
    "    name =Field()\n",
    "    cost = Field()\n",
    "    #description = Field()\n",
    "    amenities = Field() \n",
    "\n",
    "class TripHotel (CrawlSpider):\n",
    "    name=\"Hotel\"\n",
    "    custom_settings={\n",
    "        'USER_AGENT': \"Mozilla/5.0 (X11; Linux x86_64) AppleWebKit/537.36 (KHTML, like Gecko) Chrome/108.0.0.0 Safari/537.36\"\n",
    "    }\n",
    "    start_urls=['https://www.tripadvisor.com.mx/Hotels-g150807-Cancun_Yucatan_Peninsula-Hotels.html']\n",
    "    downloand_delay=2 #time delay for don't give a banish from somepages\n",
    "\n",
    "    rules =(\n",
    "        Rule(\n",
    "            LinkExtractor(\n",
    "                allow=r'/Hotel_Review-'\n",
    "            ),follow=True, callback=\"parse_hotel\" #nombre de la funcion donde van los items, esta funcion se llamara cuando los \n",
    "                  #links cumplan con la regla donde se especifica\n",
    "        )\n",
    "    ) "
   ]
  },
  {
   "cell_type": "code",
   "execution_count": 18,
   "metadata": {},
   "outputs": [],
   "source": [
    "def parse_hotel(self, response):\n",
    "    selector =Selector(response)\n",
    "    item = ItemLoader(Hotel(), selector)\n",
    "    item.add_xpath('name', '//h1[@id=\"HEADING\"]/text()')\n",
    "    item.add_xpath('cost','//div[@class=\"ui_column\"]/text()')\n",
    "    #item.add_xpath('description','//div')\n",
    "    item.add_xpath('amenities','//div[contains(@class, \"yplav f ME H3 _c\")]/text()' )\n",
    "    yield item.load_item()"
   ]
  },
  {
   "cell_type": "code",
   "execution_count": 19,
   "metadata": {},
   "outputs": [
    {
     "name": "stderr",
     "output_type": "stream",
     "text": [
      "Unhandled error in Deferred:\n",
      "2023-03-21 19:38:30 [twisted] CRITICAL: Unhandled error in Deferred:\n",
      "2023-03-21 19:38:30 [twisted] CRITICAL: Unhandled error in Deferred:\n",
      "\n",
      "Traceback (most recent call last):\n",
      "  File \"/Users/marco/anaconda3/lib/python3.7/site-packages/scrapy/crawler.py\", line 233, in crawl\n",
      "    return self._crawl(crawler, *args, **kwargs)\n",
      "  File \"/Users/marco/anaconda3/lib/python3.7/site-packages/scrapy/crawler.py\", line 237, in _crawl\n",
      "    d = crawler.crawl(*args, **kwargs)\n",
      "  File \"/Users/marco/anaconda3/lib/python3.7/site-packages/twisted/internet/defer.py\", line 1613, in unwindGenerator\n",
      "    return _cancellableInlineCallbacks(gen)\n",
      "  File \"/Users/marco/anaconda3/lib/python3.7/site-packages/twisted/internet/defer.py\", line 1529, in _cancellableInlineCallbacks\n",
      "    _inlineCallbacks(None, g, status)\n",
      "--- <exception caught here> ---\n",
      "  File \"/Users/marco/anaconda3/lib/python3.7/site-packages/twisted/internet/defer.py\", line 1418, in _inlineCallbacks\n",
      "    result = g.send(result)\n",
      "  File \"/Users/marco/anaconda3/lib/python3.7/site-packages/scrapy/crawler.py\", line 121, in crawl\n",
      "    self.spider = self._create_spider(*args, **kwargs)\n",
      "  File \"/Users/marco/anaconda3/lib/python3.7/site-packages/scrapy/crawler.py\", line 133, in _create_spider\n",
      "    return self.spidercls.from_crawler(self, *args, **kwargs)\n",
      "  File \"/Users/marco/anaconda3/lib/python3.7/site-packages/scrapy/spiders/crawl.py\", line 146, in from_crawler\n",
      "    spider = super().from_crawler(crawler, *args, **kwargs)\n",
      "  File \"/Users/marco/anaconda3/lib/python3.7/site-packages/scrapy/spiders/__init__.py\", line 53, in from_crawler\n",
      "    spider = cls(*args, **kwargs)\n",
      "  File \"/Users/marco/anaconda3/lib/python3.7/site-packages/scrapy/spiders/crawl.py\", line 68, in __init__\n",
      "    self._compile_rules()\n",
      "  File \"/Users/marco/anaconda3/lib/python3.7/site-packages/scrapy/spiders/crawl.py\", line 140, in _compile_rules\n",
      "    for rule in self.rules:\n",
      "builtins.TypeError: 'Rule' object is not iterable\n",
      "\n",
      "2023-03-21 19:38:30 [twisted] CRITICAL: \n",
      "Traceback (most recent call last):\n",
      "  File \"/Users/marco/anaconda3/lib/python3.7/site-packages/twisted/internet/defer.py\", line 1418, in _inlineCallbacks\n",
      "    result = g.send(result)\n",
      "  File \"/Users/marco/anaconda3/lib/python3.7/site-packages/scrapy/crawler.py\", line 121, in crawl\n",
      "    self.spider = self._create_spider(*args, **kwargs)\n",
      "  File \"/Users/marco/anaconda3/lib/python3.7/site-packages/scrapy/crawler.py\", line 133, in _create_spider\n",
      "    return self.spidercls.from_crawler(self, *args, **kwargs)\n",
      "  File \"/Users/marco/anaconda3/lib/python3.7/site-packages/scrapy/spiders/crawl.py\", line 146, in from_crawler\n",
      "    spider = super().from_crawler(crawler, *args, **kwargs)\n",
      "  File \"/Users/marco/anaconda3/lib/python3.7/site-packages/scrapy/spiders/__init__.py\", line 53, in from_crawler\n",
      "    spider = cls(*args, **kwargs)\n",
      "  File \"/Users/marco/anaconda3/lib/python3.7/site-packages/scrapy/spiders/crawl.py\", line 68, in __init__\n",
      "    self._compile_rules()\n",
      "  File \"/Users/marco/anaconda3/lib/python3.7/site-packages/scrapy/spiders/crawl.py\", line 140, in _compile_rules\n",
      "    for rule in self.rules:\n",
      "TypeError: 'Rule' object is not iterable\n",
      "2023-03-21 19:38:30 [twisted] CRITICAL: \n",
      "Traceback (most recent call last):\n",
      "  File \"/Users/marco/anaconda3/lib/python3.7/site-packages/twisted/internet/defer.py\", line 1418, in _inlineCallbacks\n",
      "    result = g.send(result)\n",
      "  File \"/Users/marco/anaconda3/lib/python3.7/site-packages/scrapy/crawler.py\", line 121, in crawl\n",
      "    self.spider = self._create_spider(*args, **kwargs)\n",
      "  File \"/Users/marco/anaconda3/lib/python3.7/site-packages/scrapy/crawler.py\", line 133, in _create_spider\n",
      "    return self.spidercls.from_crawler(self, *args, **kwargs)\n",
      "  File \"/Users/marco/anaconda3/lib/python3.7/site-packages/scrapy/spiders/crawl.py\", line 146, in from_crawler\n",
      "    spider = super().from_crawler(crawler, *args, **kwargs)\n",
      "  File \"/Users/marco/anaconda3/lib/python3.7/site-packages/scrapy/spiders/__init__.py\", line 53, in from_crawler\n",
      "    spider = cls(*args, **kwargs)\n",
      "  File \"/Users/marco/anaconda3/lib/python3.7/site-packages/scrapy/spiders/crawl.py\", line 68, in __init__\n",
      "    self._compile_rules()\n",
      "  File \"/Users/marco/anaconda3/lib/python3.7/site-packages/scrapy/spiders/crawl.py\", line 140, in _compile_rules\n",
      "    for rule in self.rules:\n",
      "TypeError: 'Rule' object is not iterable\n",
      "2023-03-21 19:38:30 [scrapy.utils.log] INFO: Scrapy 2.8.0 started (bot: scrapybot)\n",
      "2023-03-21 19:38:30 [scrapy.utils.log] INFO: Versions: lxml 4.9.2.0, libxml2 2.9.8, cssselect 1.2.0, parsel 1.7.0, w3lib 2.1.1, Twisted 18.9.0, Python 3.7.2 (default, Dec 29 2018, 00:00:04) - [Clang 4.0.1 (tags/RELEASE_401/final)], pyOpenSSL 23.0.0 (OpenSSL 3.0.8 7 Feb 2023), cryptography 39.0.2, Platform Darwin-18.7.0-x86_64-i386-64bit\n",
      "2023-03-21 19:38:30 [scrapy.crawler] INFO: Overridden settings:\n",
      "{'USER_AGENT': 'Mozilla/5.0 (X11; Linux x86_64) AppleWebKit/537.36 (KHTML, '\n",
      "               'like Gecko) Chrome/108.0.0.0 Safari/537.36'}\n",
      "2023-03-21 19:38:30 [py.warnings] WARNING: /Users/marco/anaconda3/lib/python3.7/site-packages/scrapy/utils/request.py:232: ScrapyDeprecationWarning: '2.6' is a deprecated value for the 'REQUEST_FINGERPRINTER_IMPLEMENTATION' setting.\n",
      "\n",
      "It is also the default value. In other words, it is normal to get this warning if you have not defined a value for the 'REQUEST_FINGERPRINTER_IMPLEMENTATION' setting. This is so for backward compatibility reasons, but it will change in a future version of Scrapy.\n",
      "\n",
      "See the documentation of the 'REQUEST_FINGERPRINTER_IMPLEMENTATION' setting for information on how to handle this deprecation.\n",
      "  return cls(crawler)\n",
      "\n",
      "2023-03-21 19:38:31 [scrapy.utils.log] DEBUG: Using reactor: twisted.internet.selectreactor.SelectReactor\n",
      "2023-03-21 19:38:31 [scrapy.extensions.telnet] INFO: Telnet Password: 0ba600780a9c5652\n",
      "2023-03-21 19:38:31 [py.warnings] WARNING: /Users/marco/anaconda3/lib/python3.7/site-packages/scrapy/extensions/feedexport.py:315: ScrapyDeprecationWarning: The `FEED_URI` and `FEED_FORMAT` settings have been deprecated in favor of the `FEEDS` setting. Please see the `FEEDS` setting docs for more details\n",
      "  exporter = cls(crawler)\n",
      "\n",
      "2023-03-21 19:38:31 [scrapy.middleware] INFO: Enabled extensions:\n",
      "['scrapy.extensions.corestats.CoreStats',\n",
      " 'scrapy.extensions.telnet.TelnetConsole',\n",
      " 'scrapy.extensions.memusage.MemoryUsage',\n",
      " 'scrapy.extensions.feedexport.FeedExporter',\n",
      " 'scrapy.extensions.logstats.LogStats']\n"
     ]
    }
   ],
   "source": [
    "process=CrawlerProcess({\n",
    "    'FEED_FORMAT':'csv',\n",
    "    'FEED_URI': 'Response.csv'\n",
    "})\n",
    "process.crawl(TripHotel)\n",
    "process.start()"
   ]
  },
  {
   "cell_type": "code",
   "execution_count": null,
   "metadata": {},
   "outputs": [],
   "source": []
  }
 ],
 "metadata": {
  "kernelspec": {
   "display_name": "base",
   "language": "python",
   "name": "python3"
  },
  "language_info": {
   "codemirror_mode": {
    "name": "ipython",
    "version": 3
   },
   "file_extension": ".py",
   "mimetype": "text/x-python",
   "name": "python",
   "nbconvert_exporter": "python",
   "pygments_lexer": "ipython3",
   "version": "3.7.2"
  },
  "orig_nbformat": 4,
  "vscode": {
   "interpreter": {
    "hash": "d919dd3a1f16e8fa0c629ce6cb1a8b6ee07f7c8d3334e6bdfacd956d79f34302"
   }
  }
 },
 "nbformat": 4,
 "nbformat_minor": 2
}

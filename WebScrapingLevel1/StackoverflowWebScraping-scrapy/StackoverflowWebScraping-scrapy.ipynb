{
 "cells": [
  {
   "cell_type": "code",
   "execution_count": 1,
   "metadata": {},
   "outputs": [],
   "source": [
    "from scrapy.item import Field\n",
    "from scrapy.item import Item\n",
    "from scrapy.spiders import Spider\n",
    "from scrapy.selector import Selector\n",
    "from scrapy.loader import ItemLoader"
   ]
  },
  {
   "cell_type": "code",
   "execution_count": 2,
   "metadata": {},
   "outputs": [],
   "source": [
    "#Here we have the class which is named like the request and it have the atributes, this atribustes are\n",
    "#fields which represent the extractions of data\n",
    "class Question (Item): \n",
    "    question = Field()\n",
    "    description = Field()"
   ]
  },
  {
   "cell_type": "code",
   "execution_count": 6,
   "metadata": {},
   "outputs": [],
   "source": [
    "class StackoverFlowSpider(Spider):\n",
    "    name=\"MyFisrstSpider\"\n",
    "    custom_settings={\n",
    "        'USER_AGENT': \"Mozilla/5.0 (Macintosh; Intel Mac OS X 13_1) AppleWebKit/537.36 (KHTML, like Gecko) Chrome/108.0.0.0 Safari/537.36\"\n",
    "    }\n",
    "    start_urls=[\"https://stackoverflow.com/questions\"]\n",
    "\n",
    "    def parse(self, response):\n",
    "        selector=Selector(response)\n",
    "        questions=selector.xpath(\"//div[@id='questions']//div[@class='s-post-summary--content-excerpt']\")\n",
    "        for question in questions:\n",
    "            #its giving the instance of class Question where we have the the fields to astract\n",
    "            #the second parameter is from I give the information in this case is the iteration question\n",
    "            item=ItemLoader(Question(), question) \n",
    "            item.add_xpath('question', './/h3/a/text()')\n",
    "            item.add_xpath('description', './/div[@class=\"s-post-summary--content-excerpt\"]/text()')\n",
    "            yield item.load_item()\n",
    "    \n",
    "\n"
   ]
  },
  {
   "cell_type": "code",
   "execution_count": null,
   "metadata": {},
   "outputs": [],
   "source": []
  }
 ],
 "metadata": {
  "kernelspec": {
   "display_name": "base",
   "language": "python",
   "name": "python3"
  },
  "language_info": {
   "codemirror_mode": {
    "name": "ipython",
    "version": 3
   },
   "file_extension": ".py",
   "mimetype": "text/x-python",
   "name": "python",
   "nbconvert_exporter": "python",
   "pygments_lexer": "ipython3",
   "version": "3.7.2"
  },
  "orig_nbformat": 4,
  "vscode": {
   "interpreter": {
    "hash": "d919dd3a1f16e8fa0c629ce6cb1a8b6ee07f7c8d3334e6bdfacd956d79f34302"
   }
  }
 },
 "nbformat": 4,
 "nbformat_minor": 2
}

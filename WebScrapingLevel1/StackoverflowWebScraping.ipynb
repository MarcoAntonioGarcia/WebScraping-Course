{
 "cells": [
  {
   "cell_type": "code",
   "execution_count": 1,
   "metadata": {},
   "outputs": [],
   "source": [
    "import requests\n",
    "from bs4 import BeautifulSoup"
   ]
  },
  {
   "cell_type": "code",
   "execution_count": 2,
   "metadata": {},
   "outputs": [],
   "source": [
    "headers = {\n",
    "    \"user-agent\":\"Mozilla/5.0 (Macintosh; Intel Mac OS X 13_1) AppleWebKit/537.36 (KHTML, like Gecko) Chrome/108.0.0.0 Safari/537.36\"}"
   ]
  },
  {
   "cell_type": "code",
   "execution_count": 3,
   "metadata": {},
   "outputs": [],
   "source": [
    "url=\"https://stackoverflow.com/questions\"\n",
    "response= requests.get(url, headers=headers)"
   ]
  },
  {
   "cell_type": "code",
   "execution_count": 5,
   "metadata": {},
   "outputs": [
    {
     "name": "stdout",
     "output_type": "stream",
     "text": [
      "\n",
      "how to solve by resolution rule?\n",
      "\n",
      "\n",
      "Signed Url is working after the expiration date Cloud Storage python\n",
      "\n",
      "\n",
      "Why would \"hibernate.type=trace\" not work in Spring Boot?\n",
      "\n",
      "\n",
      "Seperate python environment per model in TorchServe\n",
      "\n",
      "\n",
      "builder() in CEntity cannot override builder() in BEntity\n",
      "\n",
      "\n",
      "What is the generated ApplicationTest class in Spring Boot?\n",
      "\n",
      "\n",
      "How to pass named arguments into a Mix Task?\n",
      "\n",
      "\n",
      "How can we loop through dates in a dataframe, and append strings to create a valid URL?\n",
      "\n",
      "\n",
      "\"socket.io\" connection returns 404 when trying to access from localhost, integrated with node.js and react web frontend\n",
      "\n",
      "\n",
      "how to access a value of _InternalLinkedHashMap in flutter?\n",
      "\n",
      "\n",
      "MariaDB change colum data from double to time datatype\n",
      "\n",
      "\n",
      "My program doesn't skip the commands that are in the JG condition. C/C++ Assembly\n",
      "\n",
      "\n",
      "Why the conversion using as.factor() (or factor()) does not change the data type of my column?\n",
      "\n",
      "\n",
      "Creating a generic List with a variable number of objects\n",
      "\n",
      "\n",
      "onFailure: Expected BEGIN_OBJECT but was BEGIN_ARRAY at path $[0]\n",
      "\n"
     ]
    }
   ],
   "source": [
    "soup  = BeautifulSoup(response.text)\n",
    "questions_container=soup.find(id=\"questions\")\n",
    "question_list=questions_container.find_all(class_=\"s-post-summary\")\n",
    "for question in question_list:\n",
    "    question_text=question.find(\"h3\").text\n",
    "    question_answer=question.find(class_=\"s-post-summary--content-excerpt\").text\n",
    "    question_answer=question_answer.replace('\\n', '').replace('\\r', '').strip()\n",
    "    print(question_text)\n",
    "    #print(question_answer)\n",
    "\n",
    "    "
   ]
  },
  {
   "cell_type": "code",
   "execution_count": null,
   "metadata": {},
   "outputs": [],
   "source": [
    "  "
   ]
  }
 ],
 "metadata": {
  "kernelspec": {
   "display_name": "Python 3",
   "language": "python",
   "name": "python3"
  },
  "language_info": {
   "codemirror_mode": {
    "name": "ipython",
    "version": 3
   },
   "file_extension": ".py",
   "mimetype": "text/x-python",
   "name": "python",
   "nbconvert_exporter": "python",
   "pygments_lexer": "ipython3",
   "version": "3.7.2"
  },
  "vscode": {
   "interpreter": {
    "hash": "d919dd3a1f16e8fa0c629ce6cb1a8b6ee07f7c8d3334e6bdfacd956d79f34302"
   }
  }
 },
 "nbformat": 4,
 "nbformat_minor": 2
}
